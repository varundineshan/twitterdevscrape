{
 "cells": [
  {
   "cell_type": "code",
   "execution_count": 52,
   "metadata": {},
   "outputs": [],
   "source": [
    "import os\n",
    "import tweepy as tw\n",
    "import pandas as pd\n",
    "import numpy as np"
   ]
  },
  {
   "cell_type": "code",
   "execution_count": 53,
   "metadata": {},
   "outputs": [],
   "source": [
    "consumer_key= 'Kzzmf7XB9oZCvjOEtMzamLLlx'\n",
    "consumer_secret= 'Y2YQTkTjhjPQUFzGKsF6tk8gbPlH4ndkOgBVCCft2Xx8qyL3cA'\n",
    "access_token= '1263115900733001733-zawsh3VoElT6KMcZ3vJiXnYchquHJg'\n",
    "access_token_secret= '0Ht7ZyTxvL04crIhBJl32CYHPYVBOLeaeGMZHXkvqmooK'"
   ]
  },
  {
   "cell_type": "code",
   "execution_count": 54,
   "metadata": {},
   "outputs": [],
   "source": [
    "auth = tw.OAuthHandler(consumer_key, consumer_secret)\n",
    "auth.set_access_token(access_token, access_token_secret)\n",
    "api = tw.API(auth, wait_on_rate_limit=True)"
   ]
  },
  {
   "cell_type": "code",
   "execution_count": 55,
   "metadata": {},
   "outputs": [],
   "source": [
    "def Search(username):\n",
    "    for tweet in api.user_timeline(id=username, count=count):\n",
    "        myposts.append((tweet.created_at.strftime('%y-%m-%d %a %H:%M:%S'),tweet.user.screen_name,tweet.text))"
   ]
  },
  {
   "cell_type": "code",
   "execution_count": 56,
   "metadata": {},
   "outputs": [],
   "source": [
    "myposts=[]\n",
    "username = 'augustin3_jose'\n",
    "count = 10\n",
    "Search(username)\n",
    "df = pd.DataFrame(myposts,columns=['Date Posted','User Name','Tweet'])"
   ]
  },
  {
   "cell_type": "code",
   "execution_count": 57,
   "metadata": {},
   "outputs": [
    {
     "data": {
      "text/html": [
       "<div>\n",
       "<style scoped>\n",
       "    .dataframe tbody tr th:only-of-type {\n",
       "        vertical-align: middle;\n",
       "    }\n",
       "\n",
       "    .dataframe tbody tr th {\n",
       "        vertical-align: top;\n",
       "    }\n",
       "\n",
       "    .dataframe thead th {\n",
       "        text-align: right;\n",
       "    }\n",
       "</style>\n",
       "<table border=\"1\" class=\"dataframe\">\n",
       "  <thead>\n",
       "    <tr style=\"text-align: right;\">\n",
       "      <th></th>\n",
       "      <th>Date Posted</th>\n",
       "      <th>User Name</th>\n",
       "      <th>Tweet</th>\n",
       "    </tr>\n",
       "  </thead>\n",
       "  <tbody>\n",
       "    <tr>\n",
       "      <th>0</th>\n",
       "      <td>20-07-14 Tue 00:42:42</td>\n",
       "      <td>augustin3_jose</td>\n",
       "      <td>\"It is only when they go wrong that machines r...</td>\n",
       "    </tr>\n",
       "    <tr>\n",
       "      <th>1</th>\n",
       "      <td>20-07-14 Tue 00:38:49</td>\n",
       "      <td>augustin3_jose</td>\n",
       "      <td>VELD 2020 is the one I missed the most in 2020.</td>\n",
       "    </tr>\n",
       "    <tr>\n",
       "      <th>2</th>\n",
       "      <td>20-07-13 Mon 23:55:26</td>\n",
       "      <td>augustin3_jose</td>\n",
       "      <td>Sapiens: an awesome book on evolution.. stone-...</td>\n",
       "    </tr>\n",
       "    <tr>\n",
       "      <th>3</th>\n",
       "      <td>20-07-13 Mon 23:42:03</td>\n",
       "      <td>augustin3_jose</td>\n",
       "      <td>Sometimes https://t.co/C4qt2AQtPw helps me to ...</td>\n",
       "    </tr>\n",
       "    <tr>\n",
       "      <th>4</th>\n",
       "      <td>20-07-13 Mon 23:40:10</td>\n",
       "      <td>augustin3_jose</td>\n",
       "      <td>I think the present educational institutions c...</td>\n",
       "    </tr>\n",
       "    <tr>\n",
       "      <th>5</th>\n",
       "      <td>20-07-13 Mon 23:33:24</td>\n",
       "      <td>augustin3_jose</td>\n",
       "      <td>Suggest everyone to read Rich Dad Poor Dad: It...</td>\n",
       "    </tr>\n",
       "    <tr>\n",
       "      <th>6</th>\n",
       "      <td>20-07-13 Mon 23:30:41</td>\n",
       "      <td>augustin3_jose</td>\n",
       "      <td>Invest money now: The right time to invest mon...</td>\n",
       "    </tr>\n",
       "    <tr>\n",
       "      <th>7</th>\n",
       "      <td>20-07-13 Mon 23:29:24</td>\n",
       "      <td>augustin3_jose</td>\n",
       "      <td>White Paper: I would suggest to download and p...</td>\n",
       "    </tr>\n",
       "    <tr>\n",
       "      <th>8</th>\n",
       "      <td>20-07-13 Mon 23:21:56</td>\n",
       "      <td>augustin3_jose</td>\n",
       "      <td>The Big short: a must-watch movie right now..!</td>\n",
       "    </tr>\n",
       "    <tr>\n",
       "      <th>9</th>\n",
       "      <td>20-07-13 Mon 23:19:55</td>\n",
       "      <td>augustin3_jose</td>\n",
       "      <td>Quantum technology is an emerging field of phy...</td>\n",
       "    </tr>\n",
       "  </tbody>\n",
       "</table>\n",
       "</div>"
      ],
      "text/plain": [
       "             Date Posted       User Name  \\\n",
       "0  20-07-14 Tue 00:42:42  augustin3_jose   \n",
       "1  20-07-14 Tue 00:38:49  augustin3_jose   \n",
       "2  20-07-13 Mon 23:55:26  augustin3_jose   \n",
       "3  20-07-13 Mon 23:42:03  augustin3_jose   \n",
       "4  20-07-13 Mon 23:40:10  augustin3_jose   \n",
       "5  20-07-13 Mon 23:33:24  augustin3_jose   \n",
       "6  20-07-13 Mon 23:30:41  augustin3_jose   \n",
       "7  20-07-13 Mon 23:29:24  augustin3_jose   \n",
       "8  20-07-13 Mon 23:21:56  augustin3_jose   \n",
       "9  20-07-13 Mon 23:19:55  augustin3_jose   \n",
       "\n",
       "                                               Tweet  \n",
       "0  \"It is only when they go wrong that machines r...  \n",
       "1    VELD 2020 is the one I missed the most in 2020.  \n",
       "2  Sapiens: an awesome book on evolution.. stone-...  \n",
       "3  Sometimes https://t.co/C4qt2AQtPw helps me to ...  \n",
       "4  I think the present educational institutions c...  \n",
       "5  Suggest everyone to read Rich Dad Poor Dad: It...  \n",
       "6  Invest money now: The right time to invest mon...  \n",
       "7  White Paper: I would suggest to download and p...  \n",
       "8     The Big short: a must-watch movie right now..!  \n",
       "9  Quantum technology is an emerging field of phy...  "
      ]
     },
     "execution_count": 57,
     "metadata": {},
     "output_type": "execute_result"
    }
   ],
   "source": [
    "#print(df) \n",
    "df"
   ]
  },
  {
   "cell_type": "code",
   "execution_count": null,
   "metadata": {},
   "outputs": [],
   "source": []
  }
 ],
 "metadata": {
  "kernelspec": {
   "display_name": "Python 3",
   "language": "python",
   "name": "python3"
  },
  "language_info": {
   "codemirror_mode": {
    "name": "ipython",
    "version": 3
   },
   "file_extension": ".py",
   "mimetype": "text/x-python",
   "name": "python",
   "nbconvert_exporter": "python",
   "pygments_lexer": "ipython3",
   "version": "3.7.0"
  }
 },
 "nbformat": 4,
 "nbformat_minor": 2
}
