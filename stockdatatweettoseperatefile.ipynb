{
 "cells": [
  {
   "cell_type": "code",
   "execution_count": null,
   "metadata": {},
   "outputs": [],
   "source": [
    "import os\n",
    "import tweepy as tw\n",
    "import pandas as pd\n",
    "import numpy as np"
   ]
  },
  {
   "cell_type": "code",
   "execution_count": 2,
   "metadata": {},
   "outputs": [],
   "source": [
    "consumer_key= 'Kzzmf7XB9oZCvjOEtMzamLLlx'\n",
    "consumer_secret= 'Y2YQTkTjhjPQUFzGKsF6tk8gbPlH4ndkOgBVCCft2Xx8qyL3cA'\n",
    "access_token= '1263115900733001733-zawsh3VoElT6KMcZ3vJiXnYchquHJg'\n",
    "access_token_secret= '0Ht7ZyTxvL04crIhBJl32CYHPYVBOLeaeGMZHXkvqmooK'"
   ]
  },
  {
   "cell_type": "code",
   "execution_count": 3,
   "metadata": {},
   "outputs": [],
   "source": [
    "auth = tw.OAuthHandler(consumer_key, consumer_secret)\n",
    "auth.set_access_token(access_token, access_token_secret)\n",
    "api = tw.API(auth, wait_on_rate_limit=True)\n",
    "path='C:\\\\stockdata\\\\'"
   ]
  },
  {
   "cell_type": "code",
   "execution_count": 4,
   "metadata": {},
   "outputs": [],
   "source": [
    "search_words = [\"#Altcoin\",\"#Bitcoin\",\"#Coindesk\",\"#Cryptocurrency\",\"#Gold\",\"#APPL\",\"#GOOG\",\"#YHOO\"]\n",
    "date_since = \"2019-07-24\"\n",
    "#new_search = search_words + \" -filter:retweets\""
   ]
  },
  {
   "cell_type": "code",
   "execution_count": 5,
   "metadata": {},
   "outputs": [],
   "source": [
    "def search(search_word,date_since):\n",
    "    tweets = tw.Cursor(api.search,q=search_word,\n",
    "              lang=\"en\",since=date_since).items(40)\n",
    "    \n",
    "    user_data=[[tweet.id,tweet.created_at.strftime('%y-%m-%d %a %H:%M:%S'),tweet.user.screen_name,tweet.text] for tweet in tweets]\n",
    "    \n",
    "    df = pd.DataFrame(user_data,columns=['tweet id','time of tweet','user id','text'])\n",
    "    \n",
    "    df.to_csv(path+search_word+'.csv', index=False)\n",
    "    print(search_word)\n",
    "    "
   ]
  },
  {
   "cell_type": "code",
   "execution_count": 6,
   "metadata": {},
   "outputs": [
    {
     "name": "stdout",
     "output_type": "stream",
     "text": [
      "#Altcoin\n",
      "#Bitcoin\n",
      "#Coindesk\n",
      "#Cryptocurrency\n",
      "#Gold\n",
      "#APPL\n",
      "#GOOG\n",
      "#YHOO\n"
     ]
    }
   ],
   "source": [
    "for searchword in search_words:\n",
    "    search(searchword,date_since)"
   ]
  },
  {
   "cell_type": "code",
   "execution_count": null,
   "metadata": {
    "scrolled": true
   },
   "outputs": [],
   "source": [
    "# [tweet.created_at for tweet in tweets]"
   ]
  }
 ],
 "metadata": {
  "kernelspec": {
   "display_name": "Python 3",
   "language": "python",
   "name": "python3"
  },
  "language_info": {
   "codemirror_mode": {
    "name": "ipython",
    "version": 3
   },
   "file_extension": ".py",
   "mimetype": "text/x-python",
   "name": "python",
   "nbconvert_exporter": "python",
   "pygments_lexer": "ipython3",
   "version": "3.7.0"
  }
 },
 "nbformat": 4,
 "nbformat_minor": 2
}
